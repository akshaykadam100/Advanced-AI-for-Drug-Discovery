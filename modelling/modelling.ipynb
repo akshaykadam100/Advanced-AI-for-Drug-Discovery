{
 "cells": [
  {
   "cell_type": "markdown",
   "id": "283ef7e6",
   "metadata": {},
   "source": [
    "## 1. Import Libraries"
   ]
  },
  {
   "cell_type": "code",
   "execution_count": 1,
   "id": "df935cc8",
   "metadata": {},
   "outputs": [],
   "source": [
    "import pandas as pd\n",
    "import os\n",
    "import matplotlib.pyplot as plt\n",
    "import seaborn as sns\n",
    "from sklearn.model_selection import train_test_split\n",
    "from sklearn.preprocessing import MinMaxScaler"
   ]
  },
  {
   "cell_type": "code",
   "execution_count": 2,
   "id": "4d1be561",
   "metadata": {},
   "outputs": [],
   "source": [
    "from tensorflow.keras.utils import to_categorical\n",
    "from tensorflow.keras.models import Sequential\n",
    "from tensorflow.keras.layers import Dense"
   ]
  },
  {
   "cell_type": "code",
   "execution_count": 3,
   "id": "fa0dfa31",
   "metadata": {},
   "outputs": [],
   "source": [
    "sns.set(rc={'figure.figsize':(15,8)})"
   ]
  },
  {
   "cell_type": "markdown",
   "id": "9d074515",
   "metadata": {},
   "source": [
    "## 2. Data Sourcing"
   ]
  },
  {
   "cell_type": "code",
   "execution_count": 4,
   "id": "97269a9f",
   "metadata": {},
   "outputs": [],
   "source": [
    "data_file_path = os.path.join(os.path.split(os.getcwd())[0], 'data', 'data.csv')"
   ]
  },
  {
   "cell_type": "code",
   "execution_count": 5,
   "id": "dcf602c5",
   "metadata": {},
   "outputs": [
    {
     "data": {
      "text/html": [
       "<div>\n",
       "<style scoped>\n",
       "    .dataframe tbody tr th:only-of-type {\n",
       "        vertical-align: middle;\n",
       "    }\n",
       "\n",
       "    .dataframe tbody tr th {\n",
       "        vertical-align: top;\n",
       "    }\n",
       "\n",
       "    .dataframe thead th {\n",
       "        text-align: right;\n",
       "    }\n",
       "</style>\n",
       "<table border=\"1\" class=\"dataframe\">\n",
       "  <thead>\n",
       "    <tr style=\"text-align: right;\">\n",
       "      <th></th>\n",
       "      <th>query acc.verr</th>\n",
       "      <th>subject acc.ver</th>\n",
       "      <th>% identity</th>\n",
       "      <th>alignment length</th>\n",
       "      <th>mismatches</th>\n",
       "      <th>gap opens</th>\n",
       "      <th>q. start</th>\n",
       "      <th>q. end</th>\n",
       "      <th>s. start</th>\n",
       "      <th>s. end</th>\n",
       "      <th>evalue</th>\n",
       "      <th>bit score</th>\n",
       "    </tr>\n",
       "  </thead>\n",
       "  <tbody>\n",
       "    <tr>\n",
       "      <th>0</th>\n",
       "      <td>MN997409.1</td>\n",
       "      <td>MT020881.1</td>\n",
       "      <td>99.990</td>\n",
       "      <td>29882</td>\n",
       "      <td>3</td>\n",
       "      <td>0</td>\n",
       "      <td>1</td>\n",
       "      <td>29882</td>\n",
       "      <td>1</td>\n",
       "      <td>29882</td>\n",
       "      <td>0.0</td>\n",
       "      <td>55166</td>\n",
       "    </tr>\n",
       "    <tr>\n",
       "      <th>1</th>\n",
       "      <td>MN997409.1</td>\n",
       "      <td>MT020880.1</td>\n",
       "      <td>99.990</td>\n",
       "      <td>29882</td>\n",
       "      <td>3</td>\n",
       "      <td>0</td>\n",
       "      <td>1</td>\n",
       "      <td>29882</td>\n",
       "      <td>1</td>\n",
       "      <td>29882</td>\n",
       "      <td>0.0</td>\n",
       "      <td>55166</td>\n",
       "    </tr>\n",
       "    <tr>\n",
       "      <th>2</th>\n",
       "      <td>MN997409.1</td>\n",
       "      <td>MN985325.1</td>\n",
       "      <td>99.990</td>\n",
       "      <td>29882</td>\n",
       "      <td>3</td>\n",
       "      <td>0</td>\n",
       "      <td>1</td>\n",
       "      <td>29882</td>\n",
       "      <td>1</td>\n",
       "      <td>29882</td>\n",
       "      <td>0.0</td>\n",
       "      <td>55166</td>\n",
       "    </tr>\n",
       "    <tr>\n",
       "      <th>3</th>\n",
       "      <td>MN997409.1</td>\n",
       "      <td>MN975262.1</td>\n",
       "      <td>99.990</td>\n",
       "      <td>29882</td>\n",
       "      <td>3</td>\n",
       "      <td>0</td>\n",
       "      <td>1</td>\n",
       "      <td>29882</td>\n",
       "      <td>1</td>\n",
       "      <td>29882</td>\n",
       "      <td>0.0</td>\n",
       "      <td>55166</td>\n",
       "    </tr>\n",
       "    <tr>\n",
       "      <th>4</th>\n",
       "      <td>MN997409.1</td>\n",
       "      <td>LC522974.1</td>\n",
       "      <td>99.993</td>\n",
       "      <td>29878</td>\n",
       "      <td>2</td>\n",
       "      <td>0</td>\n",
       "      <td>4</td>\n",
       "      <td>29881</td>\n",
       "      <td>1</td>\n",
       "      <td>29878</td>\n",
       "      <td>0.0</td>\n",
       "      <td>55164</td>\n",
       "    </tr>\n",
       "  </tbody>\n",
       "</table>\n",
       "</div>"
      ],
      "text/plain": [
       "  query acc.verr subject acc.ver  % identity  alignment length  mismatches  \\\n",
       "0     MN997409.1      MT020881.1      99.990             29882           3   \n",
       "1     MN997409.1      MT020880.1      99.990             29882           3   \n",
       "2     MN997409.1      MN985325.1      99.990             29882           3   \n",
       "3     MN997409.1      MN975262.1      99.990             29882           3   \n",
       "4     MN997409.1      LC522974.1      99.993             29878           2   \n",
       "\n",
       "   gap opens  q. start  q. end  s. start  s. end  evalue  bit score  \n",
       "0          0         1   29882         1   29882     0.0      55166  \n",
       "1          0         1   29882         1   29882     0.0      55166  \n",
       "2          0         1   29882         1   29882     0.0      55166  \n",
       "3          0         1   29882         1   29882     0.0      55166  \n",
       "4          0         4   29881         1   29878     0.0      55164  "
      ]
     },
     "execution_count": 5,
     "metadata": {},
     "output_type": "execute_result"
    }
   ],
   "source": [
    "raw_data = pd.read_csv(data_file_path)\n",
    "raw_data.columns = ['query acc.verr', 'subject acc.ver', '% identity', 'alignment length', 'mismatches', 'gap opens', 'q. start', 'q. end', 's. start', 's. end', 'evalue', 'bit score']\n",
    "raw_data.head()"
   ]
  },
  {
   "cell_type": "code",
   "execution_count": 6,
   "id": "ea819157",
   "metadata": {},
   "outputs": [
    {
     "data": {
      "text/plain": [
       "(262, 12)"
      ]
     },
     "execution_count": 6,
     "metadata": {},
     "output_type": "execute_result"
    }
   ],
   "source": [
    "raw_data.shape"
   ]
  },
  {
   "cell_type": "markdown",
   "id": "3b68b89a",
   "metadata": {},
   "source": [
    "## 3. Data Cleaning"
   ]
  },
  {
   "cell_type": "code",
   "execution_count": 7,
   "id": "82d22490",
   "metadata": {},
   "outputs": [
    {
     "name": "stdout",
     "output_type": "stream",
     "text": [
      "<class 'pandas.core.frame.DataFrame'>\n",
      "RangeIndex: 262 entries, 0 to 261\n",
      "Data columns (total 12 columns):\n",
      " #   Column            Non-Null Count  Dtype  \n",
      "---  ------            --------------  -----  \n",
      " 0   query acc.verr    262 non-null    object \n",
      " 1   subject acc.ver   262 non-null    object \n",
      " 2   % identity        262 non-null    float64\n",
      " 3   alignment length  262 non-null    int64  \n",
      " 4   mismatches        262 non-null    int64  \n",
      " 5   gap opens         262 non-null    int64  \n",
      " 6   q. start          262 non-null    int64  \n",
      " 7   q. end            262 non-null    int64  \n",
      " 8   s. start          262 non-null    int64  \n",
      " 9   s. end            262 non-null    int64  \n",
      " 10  evalue            262 non-null    float64\n",
      " 11  bit score         262 non-null    int64  \n",
      "dtypes: float64(2), int64(8), object(2)\n",
      "memory usage: 24.7+ KB\n"
     ]
    }
   ],
   "source": [
    "raw_data.info()"
   ]
  },
  {
   "cell_type": "markdown",
   "id": "2b740d50",
   "metadata": {},
   "source": [
    "#### No null values are present. Therefore proceeding ahead with univariate / bivariate analysis"
   ]
  },
  {
   "cell_type": "markdown",
   "id": "257aa14d",
   "metadata": {},
   "source": [
    "## 4. Univariate / Bivariate Analysis"
   ]
  },
  {
   "cell_type": "code",
   "execution_count": 8,
   "id": "5b5f8caa",
   "metadata": {},
   "outputs": [
    {
     "data": {
      "text/html": [
       "<div>\n",
       "<style scoped>\n",
       "    .dataframe tbody tr th:only-of-type {\n",
       "        vertical-align: middle;\n",
       "    }\n",
       "\n",
       "    .dataframe tbody tr th {\n",
       "        vertical-align: top;\n",
       "    }\n",
       "\n",
       "    .dataframe thead th {\n",
       "        text-align: right;\n",
       "    }\n",
       "</style>\n",
       "<table border=\"1\" class=\"dataframe\">\n",
       "  <thead>\n",
       "    <tr style=\"text-align: right;\">\n",
       "      <th></th>\n",
       "      <th>% identity</th>\n",
       "      <th>alignment length</th>\n",
       "      <th>mismatches</th>\n",
       "      <th>gap opens</th>\n",
       "      <th>q. start</th>\n",
       "      <th>q. end</th>\n",
       "      <th>s. start</th>\n",
       "      <th>s. end</th>\n",
       "      <th>evalue</th>\n",
       "      <th>bit score</th>\n",
       "    </tr>\n",
       "  </thead>\n",
       "  <tbody>\n",
       "    <tr>\n",
       "      <th>count</th>\n",
       "      <td>262.000000</td>\n",
       "      <td>262.000000</td>\n",
       "      <td>262.000000</td>\n",
       "      <td>262.000000</td>\n",
       "      <td>262.000000</td>\n",
       "      <td>262.000000</td>\n",
       "      <td>262.000000</td>\n",
       "      <td>262.000000</td>\n",
       "      <td>262.0</td>\n",
       "      <td>262.000000</td>\n",
       "    </tr>\n",
       "    <tr>\n",
       "      <th>mean</th>\n",
       "      <td>86.011771</td>\n",
       "      <td>10637.942748</td>\n",
       "      <td>922.744275</td>\n",
       "      <td>58.041985</td>\n",
       "      <td>11338.793893</td>\n",
       "      <td>21940.320611</td>\n",
       "      <td>11255.438931</td>\n",
       "      <td>21858.328244</td>\n",
       "      <td>0.0</td>\n",
       "      <td>14084.083969</td>\n",
       "    </tr>\n",
       "    <tr>\n",
       "      <th>std</th>\n",
       "      <td>7.575081</td>\n",
       "      <td>10483.912818</td>\n",
       "      <td>1086.368120</td>\n",
       "      <td>60.664978</td>\n",
       "      <td>12024.681197</td>\n",
       "      <td>10661.273849</td>\n",
       "      <td>11966.473440</td>\n",
       "      <td>10628.475046</td>\n",
       "      <td>0.0</td>\n",
       "      <td>19095.454363</td>\n",
       "    </tr>\n",
       "    <tr>\n",
       "      <th>min</th>\n",
       "      <td>77.559000</td>\n",
       "      <td>1603.000000</td>\n",
       "      <td>0.000000</td>\n",
       "      <td>0.000000</td>\n",
       "      <td>1.000000</td>\n",
       "      <td>1923.000000</td>\n",
       "      <td>1.000000</td>\n",
       "      <td>1672.000000</td>\n",
       "      <td>0.0</td>\n",
       "      <td>1011.000000</td>\n",
       "    </tr>\n",
       "    <tr>\n",
       "      <th>25%</th>\n",
       "      <td>80.046000</td>\n",
       "      <td>1925.000000</td>\n",
       "      <td>142.000000</td>\n",
       "      <td>12.000000</td>\n",
       "      <td>16.000000</td>\n",
       "      <td>21577.000000</td>\n",
       "      <td>1.250000</td>\n",
       "      <td>21489.000000</td>\n",
       "      <td>0.0</td>\n",
       "      <td>2100.500000</td>\n",
       "    </tr>\n",
       "    <tr>\n",
       "      <th>50%</th>\n",
       "      <td>82.304000</td>\n",
       "      <td>5417.000000</td>\n",
       "      <td>359.000000</td>\n",
       "      <td>35.000000</td>\n",
       "      <td>3956.000000</td>\n",
       "      <td>27910.000000</td>\n",
       "      <td>3878.500000</td>\n",
       "      <td>27783.000000</td>\n",
       "      <td>0.0</td>\n",
       "      <td>3936.000000</td>\n",
       "    </tr>\n",
       "    <tr>\n",
       "      <th>75%</th>\n",
       "      <td>90.189000</td>\n",
       "      <td>17716.000000</td>\n",
       "      <td>989.000000</td>\n",
       "      <td>68.000000</td>\n",
       "      <td>22539.000000</td>\n",
       "      <td>29874.750000</td>\n",
       "      <td>22429.000000</td>\n",
       "      <td>29729.000000</td>\n",
       "      <td>0.0</td>\n",
       "      <td>15175.000000</td>\n",
       "    </tr>\n",
       "    <tr>\n",
       "      <th>max</th>\n",
       "      <td>100.000000</td>\n",
       "      <td>29882.000000</td>\n",
       "      <td>2952.000000</td>\n",
       "      <td>172.000000</td>\n",
       "      <td>28257.000000</td>\n",
       "      <td>29882.000000</td>\n",
       "      <td>28137.000000</td>\n",
       "      <td>30256.000000</td>\n",
       "      <td>0.0</td>\n",
       "      <td>55166.000000</td>\n",
       "    </tr>\n",
       "  </tbody>\n",
       "</table>\n",
       "</div>"
      ],
      "text/plain": [
       "       % identity  alignment length   mismatches   gap opens      q. start  \\\n",
       "count  262.000000        262.000000   262.000000  262.000000    262.000000   \n",
       "mean    86.011771      10637.942748   922.744275   58.041985  11338.793893   \n",
       "std      7.575081      10483.912818  1086.368120   60.664978  12024.681197   \n",
       "min     77.559000       1603.000000     0.000000    0.000000      1.000000   \n",
       "25%     80.046000       1925.000000   142.000000   12.000000     16.000000   \n",
       "50%     82.304000       5417.000000   359.000000   35.000000   3956.000000   \n",
       "75%     90.189000      17716.000000   989.000000   68.000000  22539.000000   \n",
       "max    100.000000      29882.000000  2952.000000  172.000000  28257.000000   \n",
       "\n",
       "             q. end      s. start        s. end  evalue     bit score  \n",
       "count    262.000000    262.000000    262.000000   262.0    262.000000  \n",
       "mean   21940.320611  11255.438931  21858.328244     0.0  14084.083969  \n",
       "std    10661.273849  11966.473440  10628.475046     0.0  19095.454363  \n",
       "min     1923.000000      1.000000   1672.000000     0.0   1011.000000  \n",
       "25%    21577.000000      1.250000  21489.000000     0.0   2100.500000  \n",
       "50%    27910.000000   3878.500000  27783.000000     0.0   3936.000000  \n",
       "75%    29874.750000  22429.000000  29729.000000     0.0  15175.000000  \n",
       "max    29882.000000  28137.000000  30256.000000     0.0  55166.000000  "
      ]
     },
     "execution_count": 8,
     "metadata": {},
     "output_type": "execute_result"
    }
   ],
   "source": [
    "raw_data.describe()"
   ]
  },
  {
   "cell_type": "markdown",
   "id": "d3865091",
   "metadata": {},
   "source": [
    "### 4.1. query acc.verr"
   ]
  },
  {
   "cell_type": "code",
   "execution_count": 9,
   "id": "6334f504",
   "metadata": {},
   "outputs": [
    {
     "data": {
      "text/plain": [
       "array(['MN997409.1'], dtype=object)"
      ]
     },
     "execution_count": 9,
     "metadata": {},
     "output_type": "execute_result"
    }
   ],
   "source": [
    "raw_data['query acc.verr'].unique()"
   ]
  },
  {
   "cell_type": "markdown",
   "id": "a7cad0b5",
   "metadata": {},
   "source": [
    "#### We see that there is only 1 value in this column. Therefore we can drop this column before proceeding for further anlaysis."
   ]
  },
  {
   "cell_type": "code",
   "execution_count": 10,
   "id": "18ef8635",
   "metadata": {},
   "outputs": [],
   "source": [
    "raw_data = raw_data.drop(columns=['query acc.verr'])"
   ]
  },
  {
   "cell_type": "code",
   "execution_count": 11,
   "id": "e989f07d",
   "metadata": {},
   "outputs": [
    {
     "data": {
      "text/plain": [
       "(262, 11)"
      ]
     },
     "execution_count": 11,
     "metadata": {},
     "output_type": "execute_result"
    }
   ],
   "source": [
    "raw_data.shape"
   ]
  },
  {
   "cell_type": "markdown",
   "id": "1ff0ccd6",
   "metadata": {},
   "source": [
    "### 4.2. subject acc.ver"
   ]
  },
  {
   "cell_type": "code",
   "execution_count": 12,
   "id": "2ac12079",
   "metadata": {},
   "outputs": [
    {
     "data": {
      "text/plain": [
       "array(['MT020881.1', 'MT020880.1', 'MN985325.1', 'MN975262.1',\n",
       "       'LC522974.1', 'MT049951.1', 'MT019532.1', 'MN996528.1',\n",
       "       'NC_045512.2', 'MN908947.3', 'LC522975.1', 'LC522973.1',\n",
       "       'MN988669.1', 'MN988668.1', 'MT019533.1', 'MT019531.1',\n",
       "       'MT066175.1', 'MT027064.1', 'MN994468.1', 'MT044257.1',\n",
       "       'MT027063.1', 'MT027062.1', 'MT019529.1', 'MN994467.1',\n",
       "       'LR757995.1', 'MN988713.1', 'MT039888.1', 'MT039887.1',\n",
       "       'LC522972.1', 'MT066176.1', 'MT019530.1', 'LR757996.1',\n",
       "       'MT039890.1', 'MN996530.1', 'LR757998.1', 'MN996531.1',\n",
       "       'MN938384.1', 'MN996529.1', 'MT007544.1', 'MT039873.1',\n",
       "       'MN996527.1', 'MT044258.1', 'LC521925.1', 'MT020781.1',\n",
       "       'MG772933.1', 'MG772934.1', 'AY394996.1', 'AY394997.1',\n",
       "       'AY395003.1', 'AY304486.1', 'AY304488.1', 'AY390556.1',\n",
       "       'AY394985.1', 'CS079029.1', 'EU371564.1', 'AY278554.2',\n",
       "       'AY394986.1', 'AY394994.1', 'AY559093.1', 'EU371559.1',\n",
       "       'KY417146.1', 'MK211376.1', 'AY394978.1', 'AY394983.1',\n",
       "       'AY394987.1', 'AY394991.1', 'AY394992.1', 'AY394993.1',\n",
       "       'AY394995.1', 'AY394998.1', 'AY394999.1', 'AY559082.1',\n",
       "       'AY559083.1', 'AY559084.1', 'AY559085.1', 'AY559086.1',\n",
       "       'AY559095.1', 'AY559096.1', 'CQ918585.1', 'CQ918598.1',\n",
       "       'CS079026.1', 'AP006561.1', 'AY864806.1', 'FJ882963.1',\n",
       "       'AY291451.1', 'AY323977.2', 'DJ045279.1', 'DJ059765.1',\n",
       "       'DL008527.1', 'AY427439.1', 'AY357075.1', 'AY502923.1',\n",
       "       'AY502925.1', 'AY502926.1', 'AY502928.1', 'AY714217.1',\n",
       "       'DQ898174.1', 'AY283796.1', 'AY282752.2'], dtype=object)"
      ]
     },
     "execution_count": 12,
     "metadata": {},
     "output_type": "execute_result"
    }
   ],
   "source": [
    "raw_data['subject acc.ver'].unique()"
   ]
  },
  {
   "cell_type": "code",
   "execution_count": 13,
   "id": "5fd8178c",
   "metadata": {},
   "outputs": [
    {
     "data": {
      "text/plain": [
       "subject acc.ver\n",
       "AP006561.1     4\n",
       "AY278554.2     4\n",
       "AY282752.2     4\n",
       "AY283796.1     4\n",
       "AY291451.1     4\n",
       "              ..\n",
       "MT044258.1     1\n",
       "MT049951.1     1\n",
       "MT066175.1     1\n",
       "MT066176.1     1\n",
       "NC_045512.2    1\n",
       "Name: subject acc.ver, Length: 99, dtype: int64"
      ]
     },
     "execution_count": 13,
     "metadata": {},
     "output_type": "execute_result"
    }
   ],
   "source": [
    "raw_data.groupby(['subject acc.ver'])['subject acc.ver'].count()"
   ]
  },
  {
   "cell_type": "markdown",
   "id": "afd25c9a",
   "metadata": {},
   "source": [
    "#### We see that there are multiple values in this column. Therefore we should proceed with One-Hot encoding process.\n",
    "#### But, during doing so, we see that there are number of items of which the count is just 1. There fore creating a speerate column for them is not advisable.\n",
    "#### Also these values cannot be dropped because the data we are working on is very short.\n",
    "#### Therefore, we would try dropping this column"
   ]
  },
  {
   "cell_type": "code",
   "execution_count": 14,
   "id": "ead9acf5",
   "metadata": {},
   "outputs": [],
   "source": [
    "raw_data = raw_data.drop(columns=['subject acc.ver'])"
   ]
  },
  {
   "cell_type": "code",
   "execution_count": 15,
   "id": "a71b2ed5",
   "metadata": {},
   "outputs": [
    {
     "data": {
      "text/plain": [
       "(262, 10)"
      ]
     },
     "execution_count": 15,
     "metadata": {},
     "output_type": "execute_result"
    }
   ],
   "source": [
    "raw_data.shape"
   ]
  },
  {
   "cell_type": "markdown",
   "id": "12bdbfb1",
   "metadata": {},
   "source": [
    "### 4.3. Percent Identity"
   ]
  },
  {
   "cell_type": "code",
   "execution_count": 16,
   "id": "ad3091e1",
   "metadata": {},
   "outputs": [
    {
     "data": {
      "text/plain": [
       "count    262.000000\n",
       "mean      86.011771\n",
       "std        7.575081\n",
       "min       77.559000\n",
       "25%       80.046000\n",
       "50%       82.304000\n",
       "75%       90.189000\n",
       "max      100.000000\n",
       "Name: % identity, dtype: float64"
      ]
     },
     "execution_count": 16,
     "metadata": {},
     "output_type": "execute_result"
    }
   ],
   "source": [
    "raw_data['% identity'].describe()"
   ]
  },
  {
   "cell_type": "code",
   "execution_count": 17,
   "id": "499858d8",
   "metadata": {},
   "outputs": [
    {
     "data": {
      "image/png": "[encoded data removed]",
      "text/plain": [
       "<Figure size 1080x576 with 1 Axes>"
      ]
     },
     "metadata": {},
     "output_type": "display_data"
    }
   ],
   "source": [
    "sns.boxplot(x=raw_data['% identity'])\n",
    "plt.title('Distribution of % Identity', fontdict={'fontsize': 20})\n",
    "plt.xlabel('% Identity', fontdict={'fontsize': 15})\n",
    "plt.show()  "
   ]
  },
  {
   "cell_type": "markdown",
   "id": "7043103d",
   "metadata": {},
   "source": [
    "#### All the values seems to be in desirable range and not outliers are present.\n",
    "#### So, we will keep it as it is"
   ]
  },
  {
   "cell_type": "markdown",
   "id": "4b1ea7dc",
   "metadata": {},
   "source": [
    "### 4.4. Alignment Length"
   ]
  },
  {
   "cell_type": "code",
   "execution_count": 18,
   "id": "36e4cefc",
   "metadata": {},
   "outputs": [
    {
     "data": {
      "text/plain": [
       "count      262.000000\n",
       "mean     10637.942748\n",
       "std      10483.912818\n",
       "min       1603.000000\n",
       "25%       1925.000000\n",
       "50%       5417.000000\n",
       "75%      17716.000000\n",
       "max      29882.000000\n",
       "Name: alignment length, dtype: float64"
      ]
     },
     "execution_count": 18,
     "metadata": {},
     "output_type": "execute_result"
    }
   ],
   "source": [
    "raw_data['alignment length'].describe()"
   ]
  },
  {
   "cell_type": "code",
   "execution_count": 19,
   "id": "2b8a9d54",
   "metadata": {},
   "outputs": [
    {
     "data": {
      "image/png": "[encoded data removed]",
      "text/plain": [
       "<Figure size 1080x576 with 1 Axes>"
      ]
     },
     "metadata": {},
     "output_type": "display_data"
    }
   ],
   "source": [
    "sns.boxplot(x=raw_data['alignment length'])\n",
    "plt.title('Distribution of Alignment Length', fontdict={'fontsize': 20})\n",
    "plt.xlabel('Alignment Length', fontdict={'fontsize': 15})\n",
    "plt.show()  "
   ]
  },
  {
   "cell_type": "markdown",
   "id": "9a679a9f",
   "metadata": {},
   "source": [
    "#### All the values seems to be in desirable range and not outliers are present.\n",
    "#### So, we will keep it as it is"
   ]
  },
  {
   "cell_type": "markdown",
   "id": "f709c705",
   "metadata": {},
   "source": [
    "### 4.5. Mismatches"
   ]
  },
  {
   "cell_type": "code",
   "execution_count": 20,
   "id": "1201a637",
   "metadata": {},
   "outputs": [
    {
     "data": {
      "text/plain": [
       "count     262.000000\n",
       "mean      922.744275\n",
       "std      1086.368120\n",
       "min         0.000000\n",
       "25%       142.000000\n",
       "50%       359.000000\n",
       "75%       989.000000\n",
       "max      2952.000000\n",
       "Name: mismatches, dtype: float64"
      ]
     },
     "execution_count": 20,
     "metadata": {},
     "output_type": "execute_result"
    }
   ],
   "source": [
    "raw_data['mismatches'].describe()"
   ]
  },
  {
   "cell_type": "code",
   "execution_count": 21,
   "id": "c64ea9b0",
   "metadata": {},
   "outputs": [
    {
     "data": {
      "image/png": "[encoded data removed]",
      "text/plain": [
       "<Figure size 1080x576 with 1 Axes>"
      ]
     },
     "metadata": {},
     "output_type": "display_data"
    }
   ],
   "source": [
    "sns.boxplot(x=raw_data['mismatches'])\n",
    "plt.title('Distribution of Mismatches', fontdict={'fontsize': 20})\n",
    "plt.xlabel('Mismatches', fontdict={'fontsize': 15})\n",
    "plt.show()  "
   ]
  },
  {
   "cell_type": "markdown",
   "id": "10d2fbf9",
   "metadata": {},
   "source": [
    "#### Few values seems to have gone out of range. However, those cannot be dropped as it would reduce the data\n",
    "#### So, we will keep it as it is"
   ]
  },
  {
   "cell_type": "markdown",
   "id": "d68d96fd",
   "metadata": {},
   "source": [
    "### 4.6. Gap Opens"
   ]
  },
  {
   "cell_type": "code",
   "execution_count": 22,
   "id": "b2c2a5e2",
   "metadata": {},
   "outputs": [
    {
     "data": {
      "text/plain": [
       "count    262.000000\n",
       "mean      58.041985\n",
       "std       60.664978\n",
       "min        0.000000\n",
       "25%       12.000000\n",
       "50%       35.000000\n",
       "75%       68.000000\n",
       "max      172.000000\n",
       "Name: gap opens, dtype: float64"
      ]
     },
     "execution_count": 22,
     "metadata": {},
     "output_type": "execute_result"
    }
   ],
   "source": [
    "raw_data['gap opens'].describe()"
   ]
  },
  {
   "cell_type": "code",
   "execution_count": 23,
   "id": "173b4f59",
   "metadata": {},
   "outputs": [
    {
     "data": {
      "image/png": "[encoded data removed]",
      "text/plain": [
       "<Figure size 1080x576 with 1 Axes>"
      ]
     },
     "metadata": {},
     "output_type": "display_data"
    }
   ],
   "source": [
    "sns.boxplot(x=raw_data['gap opens'])\n",
    "plt.title('Distribution of Gap Opens', fontdict={'fontsize': 20})\n",
    "plt.xlabel('Gap Opens', fontdict={'fontsize': 15})\n",
    "plt.show()  "
   ]
  },
  {
   "cell_type": "markdown",
   "id": "f3520a9d",
   "metadata": {},
   "source": [
    "#### Few values seems to have gone out of range. However, those cannot be dropped as it would reduce the data\n",
    "#### So, we will keep it as it is"
   ]
  },
  {
   "cell_type": "markdown",
   "id": "b1d22c81",
   "metadata": {},
   "source": [
    "### 4.7. Q-Start"
   ]
  },
  {
   "cell_type": "code",
   "execution_count": 24,
   "id": "98eaacc5",
   "metadata": {},
   "outputs": [
    {
     "data": {
      "text/plain": [
       "count      262.000000\n",
       "mean     11338.793893\n",
       "std      12024.681197\n",
       "min          1.000000\n",
       "25%         16.000000\n",
       "50%       3956.000000\n",
       "75%      22539.000000\n",
       "max      28257.000000\n",
       "Name: q. start, dtype: float64"
      ]
     },
     "execution_count": 24,
     "metadata": {},
     "output_type": "execute_result"
    }
   ],
   "source": [
    "raw_data['q. start'].describe()"
   ]
  },
  {
   "cell_type": "code",
   "execution_count": 25,
   "id": "deca1491",
   "metadata": {},
   "outputs": [
    {
     "data": {
      "image/png": "[encoded data removed]",
      "text/plain": [
       "<Figure size 1080x576 with 1 Axes>"
      ]
     },
     "metadata": {},
     "output_type": "display_data"
    }
   ],
   "source": [
    "sns.boxplot(x=raw_data['q. start'])\n",
    "plt.title('Distribution of Q-Start', fontdict={'fontsize': 20})\n",
    "plt.xlabel('Q-Start', fontdict={'fontsize': 15})\n",
    "plt.show()  "
   ]
  },
  {
   "cell_type": "markdown",
   "id": "0969597f",
   "metadata": {},
   "source": [
    "#### All the values seems to be in desirable range and not outliers are present.\n",
    "#### So, we will keep it as it is"
   ]
  },
  {
   "cell_type": "markdown",
   "id": "36e7abed",
   "metadata": {},
   "source": [
    "### 4.8. Q-End"
   ]
  },
  {
   "cell_type": "code",
   "execution_count": 26,
   "id": "b1ef7447",
   "metadata": {},
   "outputs": [
    {
     "data": {
      "text/plain": [
       "count      262.000000\n",
       "mean     21940.320611\n",
       "std      10661.273849\n",
       "min       1923.000000\n",
       "25%      21577.000000\n",
       "50%      27910.000000\n",
       "75%      29874.750000\n",
       "max      29882.000000\n",
       "Name: q. end, dtype: float64"
      ]
     },
     "execution_count": 26,
     "metadata": {},
     "output_type": "execute_result"
    }
   ],
   "source": [
    "raw_data['q. end'].describe()"
   ]
  },
  {
   "cell_type": "code",
   "execution_count": 27,
   "id": "3e05de80",
   "metadata": {},
   "outputs": [
    {
     "data": {
      "image/png": "[encoded data removed]",
      "text/plain": [
       "<Figure size 1080x576 with 1 Axes>"
      ]
     },
     "metadata": {},
     "output_type": "display_data"
    }
   ],
   "source": [
    "sns.boxplot(x=raw_data['q. end'])\n",
    "plt.title('Distribution of Q-End', fontdict={'fontsize': 20})\n",
    "plt.xlabel('Q-End', fontdict={'fontsize': 15})\n",
    "plt.show()  "
   ]
  },
  {
   "cell_type": "markdown",
   "id": "765844df",
   "metadata": {},
   "source": [
    "#### Few values seems to have gone out of range. However, those cannot be dropped as it would reduce the data\n",
    "#### So, we will keep it as it is"
   ]
  },
  {
   "cell_type": "markdown",
   "id": "4a3202d5",
   "metadata": {},
   "source": [
    "### 4.9. S-Start"
   ]
  },
  {
   "cell_type": "code",
   "execution_count": 28,
   "id": "28c4b2c4",
   "metadata": {},
   "outputs": [
    {
     "data": {
      "text/plain": [
       "count      262.000000\n",
       "mean     11255.438931\n",
       "std      11966.473440\n",
       "min          1.000000\n",
       "25%          1.250000\n",
       "50%       3878.500000\n",
       "75%      22429.000000\n",
       "max      28137.000000\n",
       "Name: s. start, dtype: float64"
      ]
     },
     "execution_count": 28,
     "metadata": {},
     "output_type": "execute_result"
    }
   ],
   "source": [
    "raw_data['s. start'].describe()"
   ]
  },
  {
   "cell_type": "code",
   "execution_count": 29,
   "id": "f7140904",
   "metadata": {},
   "outputs": [
    {
     "data": {
      "image/png": "[encoded data removed]",
      "text/plain": [
       "<Figure size 1080x576 with 1 Axes>"
      ]
     },
     "metadata": {},
     "output_type": "display_data"
    }
   ],
   "source": [
    "sns.boxplot(x=raw_data['s. start'])\n",
    "plt.title('Distribution of S-Start', fontdict={'fontsize': 20})\n",
    "plt.xlabel('S-Start', fontdict={'fontsize': 15})\n",
    "plt.show()  "
   ]
  },
  {
   "cell_type": "markdown",
   "id": "eaabe561",
   "metadata": {},
   "source": [
    "#### All the values seems to be in desirable range and not outliers are present.\n",
    "#### So, we will keep it as it is"
   ]
  },
  {
   "cell_type": "markdown",
   "id": "beff78df",
   "metadata": {},
   "source": [
    "### 4.10. S-End"
   ]
  },
  {
   "cell_type": "code",
   "execution_count": 30,
   "id": "8923888f",
   "metadata": {},
   "outputs": [
    {
     "data": {
      "text/plain": [
       "count      262.000000\n",
       "mean     21858.328244\n",
       "std      10628.475046\n",
       "min       1672.000000\n",
       "25%      21489.000000\n",
       "50%      27783.000000\n",
       "75%      29729.000000\n",
       "max      30256.000000\n",
       "Name: s. end, dtype: float64"
      ]
     },
     "execution_count": 30,
     "metadata": {},
     "output_type": "execute_result"
    }
   ],
   "source": [
    "raw_data['s. end'].describe()"
   ]
  },
  {
   "cell_type": "code",
   "execution_count": 31,
   "id": "fd438f84",
   "metadata": {},
   "outputs": [
    {
     "data": {
      "image/png": "[encoded data removed]",
      "text/plain": [
       "<Figure size 1080x576 with 1 Axes>"
      ]
     },
     "metadata": {},
     "output_type": "display_data"
    }
   ],
   "source": [
    "sns.boxplot(x=raw_data['s. end'])\n",
    "plt.title('Distribution of S-End', fontdict={'fontsize': 20})\n",
    "plt.xlabel('S-End', fontdict={'fontsize': 15})\n",
    "plt.show()  "
   ]
  },
  {
   "cell_type": "markdown",
   "id": "bf1e18a5",
   "metadata": {},
   "source": [
    "#### Few values seems to have gone out of range. However, those cannot be dropped as it would reduce the data\n",
    "#### So, we will keep it as it is"
   ]
  },
  {
   "cell_type": "markdown",
   "id": "a128d5d2",
   "metadata": {},
   "source": [
    "### 4.11. Evalue"
   ]
  },
  {
   "cell_type": "code",
   "execution_count": 32,
   "id": "98b3b181",
   "metadata": {},
   "outputs": [
    {
     "data": {
      "text/plain": [
       "count    262.0\n",
       "mean       0.0\n",
       "std        0.0\n",
       "min        0.0\n",
       "25%        0.0\n",
       "50%        0.0\n",
       "75%        0.0\n",
       "max        0.0\n",
       "Name: evalue, dtype: float64"
      ]
     },
     "execution_count": 32,
     "metadata": {},
     "output_type": "execute_result"
    }
   ],
   "source": [
    "raw_data['evalue'].describe()"
   ]
  },
  {
   "cell_type": "markdown",
   "id": "9cd070a5",
   "metadata": {},
   "source": [
    "#### E-Value has same value throughout the column, by which it wont output variable.\n",
    "#### Therefore, we will drop the same"
   ]
  },
  {
   "cell_type": "code",
   "execution_count": 33,
   "id": "0e27fc3e",
   "metadata": {},
   "outputs": [],
   "source": [
    "raw_data = raw_data.drop(columns=['evalue'])"
   ]
  },
  {
   "cell_type": "code",
   "execution_count": 34,
   "id": "963edeb7",
   "metadata": {},
   "outputs": [
    {
     "data": {
      "text/plain": [
       "(262, 9)"
      ]
     },
     "execution_count": 34,
     "metadata": {},
     "output_type": "execute_result"
    }
   ],
   "source": [
    "raw_data.shape"
   ]
  },
  {
   "cell_type": "markdown",
   "id": "1f6025dc",
   "metadata": {},
   "source": [
    "### 4.12. Bit Score"
   ]
  },
  {
   "cell_type": "code",
   "execution_count": 35,
   "id": "5ed2a326",
   "metadata": {},
   "outputs": [
    {
     "data": {
      "text/plain": [
       "count      262.000000\n",
       "mean     14084.083969\n",
       "std      19095.454363\n",
       "min       1011.000000\n",
       "25%       2100.500000\n",
       "50%       3936.000000\n",
       "75%      15175.000000\n",
       "max      55166.000000\n",
       "Name: bit score, dtype: float64"
      ]
     },
     "execution_count": 35,
     "metadata": {},
     "output_type": "execute_result"
    }
   ],
   "source": [
    "raw_data['bit score'].describe()"
   ]
  },
  {
   "cell_type": "code",
   "execution_count": 36,
   "id": "9f56940d",
   "metadata": {},
   "outputs": [
    {
     "data": {
      "image/png": "[encoded data removed]",
      "text/plain": [
       "<Figure size 1080x576 with 1 Axes>"
      ]
     },
     "metadata": {},
     "output_type": "display_data"
    }
   ],
   "source": [
    "sns.boxplot(x=raw_data['bit score'])\n",
    "plt.title('Distribution of Bit Score', fontdict={'fontsize': 20})\n",
    "plt.xlabel('Bit Score', fontdict={'fontsize': 15})\n",
    "plt.show()  "
   ]
  },
  {
   "cell_type": "markdown",
   "id": "b008f568",
   "metadata": {},
   "source": [
    "#### Few values seems to have gone out of range. However, those cannot be dropped as it would reduce the data\n",
    "#### So, we will keep it as it is"
   ]
  },
  {
   "cell_type": "code",
   "execution_count": 37,
   "id": "9af4a09c",
   "metadata": {
    "scrolled": true
   },
   "outputs": [
    {
     "data": {
      "text/html": [
       "<div>\n",
       "<style scoped>\n",
       "    .dataframe tbody tr th:only-of-type {\n",
       "        vertical-align: middle;\n",
       "    }\n",
       "\n",
       "    .dataframe tbody tr th {\n",
       "        vertical-align: top;\n",
       "    }\n",
       "\n",
       "    .dataframe thead th {\n",
       "        text-align: right;\n",
       "    }\n",
       "</style>\n",
       "<table border=\"1\" class=\"dataframe\">\n",
       "  <thead>\n",
       "    <tr style=\"text-align: right;\">\n",
       "      <th></th>\n",
       "      <th>% identity</th>\n",
       "      <th>alignment length</th>\n",
       "      <th>mismatches</th>\n",
       "      <th>gap opens</th>\n",
       "      <th>q. start</th>\n",
       "      <th>q. end</th>\n",
       "      <th>s. start</th>\n",
       "      <th>s. end</th>\n",
       "      <th>bit score</th>\n",
       "    </tr>\n",
       "  </thead>\n",
       "  <tbody>\n",
       "    <tr>\n",
       "      <th>% identity</th>\n",
       "      <td>1.000000</td>\n",
       "      <td>0.626757</td>\n",
       "      <td>-0.451092</td>\n",
       "      <td>-0.532851</td>\n",
       "      <td>-0.046304</td>\n",
       "      <td>0.565824</td>\n",
       "      <td>-0.045665</td>\n",
       "      <td>0.568650</td>\n",
       "      <td>0.790443</td>\n",
       "    </tr>\n",
       "    <tr>\n",
       "      <th>alignment length</th>\n",
       "      <td>0.626757</td>\n",
       "      <td>1.000000</td>\n",
       "      <td>0.214242</td>\n",
       "      <td>0.144522</td>\n",
       "      <td>-0.558664</td>\n",
       "      <td>0.353009</td>\n",
       "      <td>-0.558718</td>\n",
       "      <td>0.356930</td>\n",
       "      <td>0.943982</td>\n",
       "    </tr>\n",
       "    <tr>\n",
       "      <th>mismatches</th>\n",
       "      <td>-0.451092</td>\n",
       "      <td>0.214242</td>\n",
       "      <td>1.000000</td>\n",
       "      <td>0.988165</td>\n",
       "      <td>-0.200969</td>\n",
       "      <td>-0.019007</td>\n",
       "      <td>-0.202615</td>\n",
       "      <td>-0.019909</td>\n",
       "      <td>-0.120070</td>\n",
       "    </tr>\n",
       "    <tr>\n",
       "      <th>gap opens</th>\n",
       "      <td>-0.532851</td>\n",
       "      <td>0.144522</td>\n",
       "      <td>0.988165</td>\n",
       "      <td>1.000000</td>\n",
       "      <td>-0.187285</td>\n",
       "      <td>-0.072184</td>\n",
       "      <td>-0.188851</td>\n",
       "      <td>-0.073240</td>\n",
       "      <td>-0.187407</td>\n",
       "    </tr>\n",
       "    <tr>\n",
       "      <th>q. start</th>\n",
       "      <td>-0.046304</td>\n",
       "      <td>-0.558664</td>\n",
       "      <td>-0.200969</td>\n",
       "      <td>-0.187285</td>\n",
       "      <td>1.000000</td>\n",
       "      <td>0.578779</td>\n",
       "      <td>0.999987</td>\n",
       "      <td>0.575335</td>\n",
       "      <td>-0.500228</td>\n",
       "    </tr>\n",
       "    <tr>\n",
       "      <th>q. end</th>\n",
       "      <td>0.565824</td>\n",
       "      <td>0.353009</td>\n",
       "      <td>-0.019007</td>\n",
       "      <td>-0.072184</td>\n",
       "      <td>0.578779</td>\n",
       "      <td>1.000000</td>\n",
       "      <td>0.578717</td>\n",
       "      <td>0.999975</td>\n",
       "      <td>0.364850</td>\n",
       "    </tr>\n",
       "    <tr>\n",
       "      <th>s. start</th>\n",
       "      <td>-0.045665</td>\n",
       "      <td>-0.558718</td>\n",
       "      <td>-0.202615</td>\n",
       "      <td>-0.188851</td>\n",
       "      <td>0.999987</td>\n",
       "      <td>0.578717</td>\n",
       "      <td>1.000000</td>\n",
       "      <td>0.575301</td>\n",
       "      <td>-0.499729</td>\n",
       "    </tr>\n",
       "    <tr>\n",
       "      <th>s. end</th>\n",
       "      <td>0.568650</td>\n",
       "      <td>0.356930</td>\n",
       "      <td>-0.019909</td>\n",
       "      <td>-0.073240</td>\n",
       "      <td>0.575335</td>\n",
       "      <td>0.999975</td>\n",
       "      <td>0.575301</td>\n",
       "      <td>1.000000</td>\n",
       "      <td>0.369137</td>\n",
       "    </tr>\n",
       "    <tr>\n",
       "      <th>bit score</th>\n",
       "      <td>0.790443</td>\n",
       "      <td>0.943982</td>\n",
       "      <td>-0.120070</td>\n",
       "      <td>-0.187407</td>\n",
       "      <td>-0.500228</td>\n",
       "      <td>0.364850</td>\n",
       "      <td>-0.499729</td>\n",
       "      <td>0.369137</td>\n",
       "      <td>1.000000</td>\n",
       "    </tr>\n",
       "  </tbody>\n",
       "</table>\n",
       "</div>"
      ],
      "text/plain": [
       "                  % identity  alignment length  mismatches  gap opens  \\\n",
       "% identity          1.000000          0.626757   -0.451092  -0.532851   \n",
       "alignment length    0.626757          1.000000    0.214242   0.144522   \n",
       "mismatches         -0.451092          0.214242    1.000000   0.988165   \n",
       "gap opens          -0.532851          0.144522    0.988165   1.000000   \n",
       "q. start           -0.046304         -0.558664   -0.200969  -0.187285   \n",
       "q. end              0.565824          0.353009   -0.019007  -0.072184   \n",
       "s. start           -0.045665         -0.558718   -0.202615  -0.188851   \n",
       "s. end              0.568650          0.356930   -0.019909  -0.073240   \n",
       "bit score           0.790443          0.943982   -0.120070  -0.187407   \n",
       "\n",
       "                  q. start    q. end  s. start    s. end  bit score  \n",
       "% identity       -0.046304  0.565824 -0.045665  0.568650   0.790443  \n",
       "alignment length -0.558664  0.353009 -0.558718  0.356930   0.943982  \n",
       "mismatches       -0.200969 -0.019007 -0.202615 -0.019909  -0.120070  \n",
       "gap opens        -0.187285 -0.072184 -0.188851 -0.073240  -0.187407  \n",
       "q. start          1.000000  0.578779  0.999987  0.575335  -0.500228  \n",
       "q. end            0.578779  1.000000  0.578717  0.999975   0.364850  \n",
       "s. start          0.999987  0.578717  1.000000  0.575301  -0.499729  \n",
       "s. end            0.575335  0.999975  0.575301  1.000000   0.369137  \n",
       "bit score        -0.500228  0.364850 -0.499729  0.369137   1.000000  "
      ]
     },
     "execution_count": 37,
     "metadata": {},
     "output_type": "execute_result"
    }
   ],
   "source": [
    "pd.DataFrame(raw_data.corr())"
   ]
  },
  {
   "cell_type": "markdown",
   "id": "efe76b63",
   "metadata": {},
   "source": [
    "### 4.13. Plotting Correlation Map"
   ]
  },
  {
   "cell_type": "code",
   "execution_count": 38,
   "id": "5553a106",
   "metadata": {},
   "outputs": [
    {
     "data": {
      "image/png": "[encoded data removed]",
      "text/plain": [
       "<Figure size 1080x864 with 2 Axes>"
      ]
     },
     "metadata": {},
     "output_type": "display_data"
    }
   ],
   "source": [
    "plt.figure(figsize = (15,12))\n",
    "p = sns.heatmap(pd.DataFrame(raw_data.corr()), annot=True, vmin=-1, vmax=1, cmap='OrRd')\n",
    "plt.show()"
   ]
  },
  {
   "cell_type": "code",
   "execution_count": null,
   "id": "e2ee6970",
   "metadata": {},
   "outputs": [],
   "source": []
  }
 ],
 "metadata": {
  "kernelspec": {
   "display_name": "Python 3",
   "language": "python",
   "name": "python3"
  },
  "language_info": {
   "codemirror_mode": {
    "name": "ipython",
    "version": 3
   },
   "file_extension": ".py",
   "mimetype": "text/x-python",
   "name": "python",
   "nbconvert_exporter": "python",
   "pygments_lexer": "ipython3",
   "version": "3.8.10"
  }
 },
 "nbformat": 4,
 "nbformat_minor": 5
}
